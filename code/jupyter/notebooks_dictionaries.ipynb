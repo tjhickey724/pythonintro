{
 "cells": [
  {
   "cell_type": "markdown",
   "metadata": {},
   "source": [
    "# dictionaries\n",
    "These are key/value pairs where you access elements my string indices\n",
    "Actually, any immutable (hashable) value can be an index"
   ]
  },
  {
   "cell_type": "code",
   "execution_count": 1,
   "metadata": {
    "tags": []
   },
   "outputs": [
    {
     "name": "stdout",
     "output_type": "stream",
     "text": [
      "{'name': 'Tim', 'age': 68, 'gender': 'male'}\n"
     ]
    }
   ],
   "source": [
    "p1 = {'name':'Tim','age':68,'gender':'male'}\n",
    "print(p1)"
   ]
  },
  {
   "cell_type": "markdown",
   "metadata": {},
   "source": [
    "# indexing with DICT[KEY]\n"
   ]
  },
  {
   "cell_type": "code",
   "execution_count": 3,
   "metadata": {},
   "outputs": [
    {
     "name": "stdout",
     "output_type": "stream",
     "text": [
      "Tim\n",
      "{'name': 'Tim', 'age': 69, 'gender': 'male'}\n"
     ]
    }
   ],
   "source": [
    "print(p1['name'])\n",
    "p1['age'] = p1['age'] + 1\n",
    "print(p1)"
   ]
  },
  {
   "cell_type": "markdown",
   "metadata": {},
   "source": [
    "# Looping through the keys of a dictionary"
   ]
  },
  {
   "cell_type": "code",
   "execution_count": 5,
   "metadata": {},
   "outputs": [
    {
     "name": "stdout",
     "output_type": "stream",
     "text": [
      "key is name value is Tim\n",
      "key is age value is 69\n",
      "key is gender value is male\n"
     ]
    }
   ],
   "source": [
    "for k in p1:\n",
    "    print('key is',k,'value is',p1[k])\n"
   ]
  },
  {
   "cell_type": "code",
   "execution_count": 6,
   "metadata": {},
   "outputs": [
    {
     "name": "stdout",
     "output_type": "stream",
     "text": [
      "{'name': 'Intro to Python', 'enrolled': 34, 'semester': 'Sum23', 'coursenum': 'COSI 10a', 'section': 1}\n"
     ]
    }
   ],
   "source": [
    "course = {'name':'Intro to Python', 'enrolled':34, 'semester':'Sum23', 'coursenum':'COSI 10a', 'section':1}\n",
    "print(course)"
   ]
  },
  {
   "cell_type": "code",
   "execution_count": 9,
   "metadata": {},
   "outputs": [
    {
     "name": "stdout",
     "output_type": "stream",
     "text": [
      "COSI 10a Intro to Python was offered in Sum23 and enrolled 34\n"
     ]
    }
   ],
   "source": [
    "print(course['coursenum'], course['name'], \"was offered in\", \n",
    "      course['semester'], \"and enrolled\", course['enrolled'])"
   ]
  },
  {
   "cell_type": "code",
   "execution_count": 11,
   "metadata": {},
   "outputs": [
    {
     "name": "stdout",
     "output_type": "stream",
     "text": [
      "COSI 10a Intro to Python COSI 10a was offered in Sum23 and enrolled 34\n"
     ]
    }
   ],
   "source": [
    "print(course[\"coursenum\"]+\" \"+course[\"name\"]+\" \"+course[\"coursenum\"]\n",
    "      +\" was offered in \"+course[\"semester\"]\n",
    "      +\" and enrolled\",course[\"enrolled\"])\n"
   ]
  },
  {
   "cell_type": "code",
   "execution_count": 15,
   "metadata": {},
   "outputs": [],
   "source": [
    "course2 = {'name':'Mobile Apps', 'enrolled':30, 'semester':'Sum23', 'coursenum':'COSI 153a', 'section':1}\n"
   ]
  },
  {
   "cell_type": "code",
   "execution_count": 16,
   "metadata": {},
   "outputs": [
    {
     "name": "stdout",
     "output_type": "stream",
     "text": [
      "COSI 10a Intro to Python was offered in Sum23 and enrolled 34\n",
      "COSI 153a Mobile Apps was offered in Sum23 and enrolled 30\n"
     ]
    }
   ],
   "source": [
    "def print_course(course):\n",
    "    print(course['coursenum'], course['name'],\n",
    "          'was offered in',course['semester'], \n",
    "          'and enrolled', course['enrolled'])\n",
    "print_course(course)\n",
    "print_course(course2)"
   ]
  },
  {
   "cell_type": "code",
   "execution_count": null,
   "metadata": {},
   "outputs": [],
   "source": []
  },
  {
   "cell_type": "code",
   "execution_count": 27,
   "metadata": {},
   "outputs": [
    {
     "name": "stdout",
     "output_type": "stream",
     "text": [
      "36\n",
      "{'name': 'Tim', 'age': 67, 'height': 68}\n",
      "{'name': 'Ryan', 'age': 24, 'height': 68}\n",
      "{'name': 'Caitlin', 'age': 28, 'height': 64}\n",
      "{'name': 'David', 'age': 19, 'height': 59}\n",
      "{'name': 'Toby', 'age': 18, 'height': 59}\n",
      "{'name': 'Anna', 'age': 18, 'height': 57}\n",
      "{'name': 'Jason', 'age': 20, 'height': 68}\n",
      "{'name': 'Jennifer', 'age': 20, 'height': 64}\n",
      "{'name': 'Penny', 'age': 22, 'height': 64}\n",
      "{'name': 'Sara', 'age': 33, 'height': 65}\n",
      "{'name': 'Greg', 'age': 45, 'height': 72}\n",
      "{'name': 'Julian', 'age': 17, 'height': 67}\n",
      "{'name': 'Lebron', 'age': 38, 'height': 81}\n",
      "{'name': 'Jayson', 'age': 25, 'height': 80}\n",
      "{'name': 'Novak', 'age': 36, 'height': 74}\n",
      "{'name': 'Mike', 'age': 42, 'height': 72}\n",
      "{'name': 'Kayla', 'age': 16, 'height': 62}\n",
      "{'name': 'Kendrick', 'age': 29, 'height': 76}\n",
      "{'name': 'Aria', 'age': 20, 'height': 68}\n",
      "{'name': 'Emma', 'age': 18, 'height': 65}\n",
      "{'name': 'Sophia', 'age': 60, 'height': 80}\n",
      "{'name': 'John', 'age': 54, 'height': 91}\n",
      "{'name': 'Joe The Giraffe', 'age': 23, 'height': 334}\n",
      "{'name': 'Bob', 'age': 21, 'height': 67}\n",
      "{'name': 'Louis', 'age': 31, 'height': 67}\n",
      "{'name': 'Luci', 'age': 90, 'height': 80}\n",
      "{'name': 'Ruth', 'age': 66, 'height': 54}\n",
      "{'name': 'Josh', 'age': 29, 'height': 87}\n",
      "{'name': 'Helen', 'age': 29, 'height': 84}\n",
      "{'name': 'Sarah', 'age': 20, 'height': 3}\n",
      "{'name': 'Jomothy', 'age': 29, 'height': 59}\n",
      "{'name': 'Piter', 'age': 54, 'height': 70}\n",
      "{'name': 'Limmy', 'age': 9, 'height': 53}\n",
      "{'name': 'Sam', 'age': 20, 'sex': 'N/A', 'height': 65}\n",
      "{'name': 'Cass', 'age': 21, 'sex': 'f', 'height': 66}\n",
      "{'name': 'Jim', 'age': 19, 'sex': 'm', 'height': 72}\n",
      "average age is 31.38888888888889\n"
     ]
    }
   ],
   "source": [
    "#People Dictionaries\n",
    "#Add four people in dictionary form below:\n",
    "people = [\n",
    "{'name':'Tim',       'age':67,    'height':68},\n",
    "{'name':'Ryan' ,   'age':24,    'height':68},\n",
    "{'name':'Caitlin',   'age':28,     'height':64},\n",
    "{'name':'David',   'age':19,    'height':59},\n",
    "{'name':'Toby',     'age':18,    'height':59},\n",
    "{'name':'Anna',    'age':18,    'height':57},\n",
    "{'name':'Jason',   'age':20,    'height':68},\n",
    "{'name':'Jennifer','age':20,    'height':64},\n",
    "{'name':'Penny',   'age':22,    'height':64},\n",
    "\n",
    "{'name':'Sara', 'age':33, 'height':65},\n",
    "{'name':'Greg', 'age':45 , 'height':72},\n",
    "{'name':'Julian' , 'age':17, 'height':67},\n",
    "{'name':'Lebron',   'age': 38,'height':81},\n",
    "{'name':'Jayson',   'age': 25,'height':80},\n",
    "{'name':'Novak',    'age': 36,'height':74},\n",
    "{'name': 'Mike',   'age':42,   'height':72},\n",
    "{'name': 'Kayla',   'age':16,   'height':62},\n",
    "{'name': 'Kendrick',  'age':29,  'height':76},\n",
    "{\"name\":\"Aria\", \"age\":20, \"height\":68},\n",
    "{\"name\":\"Emma\", \"age\":18, \"height\":65},\n",
    "{\"name\":\"Sophia\", \"age\":60, \"height\":80}, \n",
    "{'name':'John', 'age': 54,'height':91},\n",
    "{'name':'Joe The Giraffe','age': 23,'height':334},\n",
    "{'name':'Bob','age': 21,'height':67},\n",
    "{'name': 'Louis', 'age': 31, 'height': 67},\n",
    "{'name': 'Luci', 'age': 90, 'height': 80},\n",
    "{'name': 'Ruth', 'age': 66, 'height': 54},\n",
    "\n",
    "{'name' : 'Josh', 'age':29, 'height':87},\n",
    "{'name' : 'Helen', 'age':29, 'height':84},\n",
    "{'name' : 'Sarah', 'age':20, 'height':3}, \n",
    "\n",
    "\n",
    "{'name':'Jomothy',    'age':29,    'height':59},\n",
    "{'name':'Piter',          'age':54,    'height':70},\n",
    "{'name':'Limmy',       'age':9,      'height':53},\n",
    "\n",
    "\n",
    "{'name': 'Sam', 'age': 20, 'sex': 'N/A', 'height': 65},\n",
    "{'name': 'Cass', 'age': 21, 'sex': 'f', 'height': 66},\n",
    "{'name': 'Jim', 'age': 19, 'sex': 'm', 'height': 72}\n",
    "\n",
    "\n",
    "]  # end of people list\n",
    "\n",
    "print(len(people))\n",
    "\n",
    "total = 0\n",
    "for person in people:\n",
    "    print(person)\n",
    "    total += person['age']\n",
    "print('average age is',total/len(people))\n",
    "\n",
    "\n"
   ]
  },
  {
   "cell_type": "code",
   "execution_count": null,
   "metadata": {},
   "outputs": [],
   "source": []
  }
 ],
 "metadata": {
  "kernelspec": {
   "display_name": "Python 3 (ipykernel)",
   "language": "python",
   "name": "python3"
  },
  "language_info": {
   "codemirror_mode": {
    "name": "ipython",
    "version": 3
   },
   "file_extension": ".py",
   "mimetype": "text/x-python",
   "name": "python",
   "nbconvert_exporter": "python",
   "pygments_lexer": "ipython3",
   "version": "3.10.7"
  }
 },
 "nbformat": 4,
 "nbformat_minor": 4
}
