{
 "cells": [
  {
   "cell_type": "code",
   "execution_count": 1,
   "id": "0ab230a0-60ac-4937-a05a-c595bd7fe210",
   "metadata": {
    "tags": []
   },
   "outputs": [],
   "source": [
    "import csv"
   ]
  },
  {
   "cell_type": "code",
   "execution_count": 14,
   "id": "382dce50-1c85-41c2-aaba-002bde3a2326",
   "metadata": {
    "tags": []
   },
   "outputs": [
    {
     "data": {
      "text/plain": [
       "[{'name': 'Tim', 'age': 67, 'height': 68},\n",
       " {'name': 'Ryan', 'age': 24, 'height': 68},\n",
       " {'name': 'Caitlin', 'age': 28, 'height': 64},\n",
       " {'name': 'David', 'age': 19, 'height': 59},\n",
       " {'name': 'Toby', 'age': 18, 'height': 59},\n",
       " {'name': 'Anna', 'age': 18, 'height': 57},\n",
       " {'name': 'Jason', 'age': 20, 'height': 68},\n",
       " {'name': 'Jennifer', 'age': 20, 'height': 64},\n",
       " {'name': 'Penny', 'age': 22, 'height': 64},\n",
       " {'name': 'Sara', 'age': 33, 'height': 65},\n",
       " {'name': 'Greg', 'age': 45, 'height': 72},\n",
       " {'name': 'Julian', 'age': 17, 'height': 67},\n",
       " {'name': 'Lebron', 'age': 38, 'height': 81},\n",
       " {'name': 'Jayson', 'age': 25, 'height': 80},\n",
       " {'name': 'Novak', 'age': 36, 'height': 74},\n",
       " {'name': 'Mike', 'age': 42, 'height': 72},\n",
       " {'name': 'Kayla', 'age': 16, 'height': 62},\n",
       " {'name': 'Kendrick', 'age': 29, 'height': 76},\n",
       " {'name': 'Aria', 'age': 20, 'height': 68},\n",
       " {'name': 'Emma', 'age': 18, 'height': 65},\n",
       " {'name': 'Sophia', 'age': 60, 'height': 80},\n",
       " {'name': 'John', 'age': 54, 'height': 91},\n",
       " {'name': 'Joe The Giraffe', 'age': 23, 'height': 334},\n",
       " {'name': 'Bob', 'age': 21, 'height': 67},\n",
       " {'name': 'Louis', 'age': 31, 'height': 67},\n",
       " {'name': 'Luci', 'age': 90, 'height': 80},\n",
       " {'name': 'Ruth', 'age': 66, 'height': 54},\n",
       " {'name': 'Josh', 'age': 29, 'height': 87},\n",
       " {'name': 'Helen', 'age': 29, 'height': 84},\n",
       " {'name': 'Sarah', 'age': 20, 'height': 3},\n",
       " {'name': 'Jomothy', 'age': 29, 'height': 59},\n",
       " {'name': 'Piter', 'age': 54, 'height': 70},\n",
       " {'name': 'Limmy', 'age': 9, 'height': 53},\n",
       " {'name': 'Sam', 'age': 20, 'height': 65},\n",
       " {'name': 'Cass', 'age': 21, 'height': 66},\n",
       " {'name': 'Jim', 'age': 19, 'height': 72}]"
      ]
     },
     "execution_count": 14,
     "metadata": {},
     "output_type": "execute_result"
    }
   ],
   "source": [
    "from people import *\n",
    "people"
   ]
  },
  {
   "cell_type": "markdown",
   "id": "c8103798-77de-4928-b43f-c5e1e4b660e6",
   "metadata": {
    "tags": []
   },
   "source": [
    "# Write a list of dictionaries to a CSV file\n",
    "Here we show how to store a list of dictionaries in an excel file in csv format"
   ]
  },
  {
   "cell_type": "code",
   "execution_count": 21,
   "id": "f1cc4115-2dd4-4da9-8c28-dbb0fc9556a3",
   "metadata": {
    "tags": []
   },
   "outputs": [],
   "source": [
    "f = open('people.csv','w')\n",
    "z = csv.DictWriter(f,list(people[0]))\n",
    "z.writeheader()\n",
    "z.writerows(people)\n",
    "f.close()"
   ]
  },
  {
   "cell_type": "markdown",
   "id": "61f89173-45a2-4b7e-a590-84cf60ba6bd5",
   "metadata": {},
   "source": [
    "# Read a list of dictionaries from a CSV file\n",
    "Here we show how to read a list of dictionaries from a CSV file."
   ]
  },
  {
   "cell_type": "code",
   "execution_count": 23,
   "id": "80fe9b8b-27d9-4396-9ce6-da44790b0177",
   "metadata": {
    "tags": []
   },
   "outputs": [
    {
     "data": {
      "text/plain": [
       "[{'name': 'Tim', 'age': '67', 'height': '68'},\n",
       " {'name': 'Ryan', 'age': '24', 'height': '68'},\n",
       " {'name': 'Caitlin', 'age': '28', 'height': '64'},\n",
       " {'name': 'David', 'age': '19', 'height': '59'},\n",
       " {'name': 'Toby', 'age': '18', 'height': '59'},\n",
       " {'name': 'Anna', 'age': '18', 'height': '57'},\n",
       " {'name': 'Jason', 'age': '20', 'height': '68'},\n",
       " {'name': 'Jennifer', 'age': '20', 'height': '64'},\n",
       " {'name': 'Penny', 'age': '22', 'height': '64'},\n",
       " {'name': 'Sara', 'age': '33', 'height': '65'},\n",
       " {'name': 'Greg', 'age': '45', 'height': '72'},\n",
       " {'name': 'Julian', 'age': '17', 'height': '67'},\n",
       " {'name': 'Lebron', 'age': '38', 'height': '81'},\n",
       " {'name': 'Jayson', 'age': '25', 'height': '80'},\n",
       " {'name': 'Novak', 'age': '36', 'height': '74'},\n",
       " {'name': 'Mike', 'age': '42', 'height': '72'},\n",
       " {'name': 'Kayla', 'age': '16', 'height': '62'},\n",
       " {'name': 'Kendrick', 'age': '29', 'height': '76'},\n",
       " {'name': 'Aria', 'age': '20', 'height': '68'},\n",
       " {'name': 'Emma', 'age': '18', 'height': '65'},\n",
       " {'name': 'Sophia', 'age': '60', 'height': '80'},\n",
       " {'name': 'John', 'age': '54', 'height': '91'},\n",
       " {'name': 'Joe The Giraffe', 'age': '23', 'height': '334'},\n",
       " {'name': 'Bob', 'age': '21', 'height': '67'},\n",
       " {'name': 'Louis', 'age': '31', 'height': '67'},\n",
       " {'name': 'Luci', 'age': '90', 'height': '80'},\n",
       " {'name': 'Ruth', 'age': '66', 'height': '54'},\n",
       " {'name': 'Josh', 'age': '29', 'height': '87'},\n",
       " {'name': 'Helen', 'age': '29', 'height': '84'},\n",
       " {'name': 'Sarah', 'age': '20', 'height': '3'},\n",
       " {'name': 'Jomothy', 'age': '29', 'height': '59'},\n",
       " {'name': 'Piter', 'age': '54', 'height': '70'},\n",
       " {'name': 'Limmy', 'age': '9', 'height': '53'},\n",
       " {'name': 'Sam', 'age': '20', 'height': '65'},\n",
       " {'name': 'Cass', 'age': '21', 'height': '66'},\n",
       " {'name': 'Jim', 'age': '19', 'height': '72'}]"
      ]
     },
     "execution_count": 23,
     "metadata": {},
     "output_type": "execute_result"
    }
   ],
   "source": [
    "f = open('people.csv','r')\n",
    "data = list(csv.DictReader(f,delimiter=','))\n",
    "f.close()\n",
    "data\n"
   ]
  },
  {
   "cell_type": "code",
   "execution_count": null,
   "id": "c5880b52-abdc-449c-bc56-8c22585feca3",
   "metadata": {},
   "outputs": [],
   "source": []
  }
 ],
 "metadata": {
  "kernelspec": {
   "display_name": "Python 3 (ipykernel)",
   "language": "python",
   "name": "python3"
  },
  "language_info": {
   "codemirror_mode": {
    "name": "ipython",
    "version": 3
   },
   "file_extension": ".py",
   "mimetype": "text/x-python",
   "name": "python",
   "nbconvert_exporter": "python",
   "pygments_lexer": "ipython3",
   "version": "3.10.7"
  }
 },
 "nbformat": 4,
 "nbformat_minor": 5
}
