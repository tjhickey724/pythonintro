{
 "cells": [
  {
   "cell_type": "markdown",
   "id": "7454e890-46d9-4ebd-8b2e-9a4fb27d0494",
   "metadata": {},
   "source": [
    "# Python Classes and Object-Oriented Programming\n",
    "We show how to create user-defined objects in Python.\n",
    "\n",
    "First we look at a built-in class that we have used frequently -- strings\n",
    "We have used several string functions (len, print) and methods (upper, split) without really talking about the differences. Let's look at them now.\n"
   ]
  },
  {
   "cell_type": "code",
   "execution_count": 1,
   "id": "b9206767-62e4-4618-8118-1141ece0791f",
   "metadata": {
    "tags": []
   },
   "outputs": [
    {
     "name": "stdout",
     "output_type": "stream",
     "text": [
      "x= this is a string\n",
      "x has type <class 'str'>\n",
      "x has 16 characters\n",
      "we can raise x to uppercase: THIS IS A STRING\n",
      "we can split y using commas as delimiters ['tim', 'hickey', '67']\n"
     ]
    }
   ],
   "source": [
    "x = \"this is a string\"\n",
    "print('x=',x)\n",
    "print('x has type',type(x))\n",
    "\n",
    "print('x has',len(x),'characters') # len is a function defined on strings\n",
    "\n",
    "print('we can raise x to uppercase:',x.upper())  \n",
    "# upper is a method of the string class with no parameters\n",
    "\n",
    "y = \"tim,hickey,67\"\n",
    "print('we can split y using commas as delimiters',y.split(','))\n",
    "# split is a string method that takes a parameter\n"
   ]
  },
  {
   "cell_type": "markdown",
   "id": "481e9d3b-18e7-4454-be76-1dc83bdb1a4f",
   "metadata": {},
   "source": [
    "Next we'll show how to create our own classes that have their own methods. We'll do this to represent intervals ```[lo,hi]``` which are pairs of numbers ```lo<hi``` and are quite useful for many applications."
   ]
  },
  {
   "cell_type": "markdown",
   "id": "948345e7-65cc-49de-bbf2-f0db830b4952",
   "metadata": {},
   "source": [
    "## Intervals using Python Dictionaries\n",
    "Python classes are similar to dictionaries in that they allow us to\n",
    "group together several Python values and refer to them by names.\n",
    "Below we show how to create an \"interval\" object representing a range of\n",
    "values between a lo and a hi value. We'll first do it using a dictionary."
   ]
  },
  {
   "cell_type": "code",
   "execution_count": 2,
   "id": "08a8e130-ab5d-44c0-af42-9bd7f67edac9",
   "metadata": {
    "tags": []
   },
   "outputs": [
    {
     "name": "stdout",
     "output_type": "stream",
     "text": [
      "2 5 has width 3\n",
      "1.5 is not in {'lo': 2, 'hi': 5}\n"
     ]
    }
   ],
   "source": [
    "'''\n",
    "Intervals using dictionaries\n",
    "'''\n",
    "\n",
    "def make_interval(a,b):\n",
    "    return {'lo':a, 'hi':b}  #return [a,b]\n",
    "\n",
    "def width(t):\n",
    "    return t['hi'] - t['lo']   # return t[1]-t[0]\n",
    "\n",
    "def contains(t,x):\n",
    "    ''' true if interval t contains the point x '''\n",
    "    return t['lo'] <= x <= t['hi']\n",
    "\n",
    "y = make_interval(2,5)\n",
    "#  same as y = {'lo':2,'hi':5}\n",
    "\n",
    "w = width(y)\n",
    "\n",
    "print(y['lo'], y['hi'],'has width', w)\n",
    "\n",
    "if contains(y,1.5):\n",
    "    print(1.5,'is in',y)\n",
    "else:\n",
    "    print(1.5,'is not in',y)\n",
    "    \n"
   ]
  },
  {
   "cell_type": "code",
   "execution_count": null,
   "id": "30f13873-2584-45ad-9f04-8efd3f9d1d63",
   "metadata": {},
   "outputs": [],
   "source": []
  },
  {
   "cell_type": "markdown",
   "id": "b1b7f967-e953-438d-b4ea-f1629b8aa8c8",
   "metadata": {},
   "source": [
    "## Exercise \n",
    "Write a function add(x,y) which returns the sum of two intervals by adding the lo's and adding the hi's, e.g. mathematically we want\n",
    "``` python\n",
    "[1,5] + [7,10] = [8,15]\n",
    "```\n",
    "and test it with these two intervals..."
   ]
  },
  {
   "cell_type": "code",
   "execution_count": 3,
   "id": "06f071ea-b2b3-4771-a881-a758aff29906",
   "metadata": {
    "tags": []
   },
   "outputs": [
    {
     "name": "stdout",
     "output_type": "stream",
     "text": [
      "x+y= {'lo': 8, 'hi': 15}\n"
     ]
    }
   ],
   "source": [
    "def make_interval(a,b):\n",
    "    return {'lo':a, 'hi':b}  #return [a,b]\n",
    "def add(x,y):\n",
    "    return {'lo':x['lo']+y['lo'],'hi':x['hi']+y['hi']}\n",
    "x = make_interval(1,5)\n",
    "y = make_interval(7,10)\n",
    "z = add(x,y)\n",
    "print('x+y=',z)"
   ]
  },
  {
   "cell_type": "code",
   "execution_count": 4,
   "id": "2f8b962a-3cd8-4234-93b1-e6609fce89ad",
   "metadata": {
    "tags": []
   },
   "outputs": [
    {
     "name": "stdout",
     "output_type": "stream",
     "text": [
      "x+y= [8, 15]\n"
     ]
    }
   ],
   "source": [
    "def make_interval(a,b):\n",
    "    return [a,b]  #return [a,b]\n",
    "\n",
    "def add(x,y):\n",
    "    low=x[0]+y[0]\n",
    "    high=x[1]+y[1]\n",
    "    return [low,high]\n",
    "x = make_interval(1,5)\n",
    "y = make_interval(7,10)\n",
    "z = add(x,y)\n",
    "print('x+y=',z)"
   ]
  },
  {
   "cell_type": "code",
   "execution_count": 5,
   "id": "3833090a-564c-48a0-b782-5376a5f862f3",
   "metadata": {
    "tags": []
   },
   "outputs": [
    {
     "name": "stdout",
     "output_type": "stream",
     "text": [
      "x+y= {'lo': 8, 'hi': 15}\n"
     ]
    }
   ],
   "source": [
    "def main():\n",
    "    x = make_interval(1,5)\n",
    "    y = make_interval(7,10)\n",
    "    z = add(x,y)\n",
    "    print('x+y=',z)\n",
    "\n",
    "def make_interval(a,b):\n",
    "    return {'lo':a, 'hi':b}  \n",
    "\n",
    "def add(x,y):\n",
    "    new_lo=x['lo']+y['lo']\n",
    "    new_hi=x['hi']+y['hi']\n",
    "    new_interval=make_interval(new_lo,new_hi)\n",
    "    return new_interval\n",
    "\n",
    "main()"
   ]
  },
  {
   "cell_type": "markdown",
   "id": "0812ed7d-eaae-4804-87e1-e89cf5f7e539",
   "metadata": {},
   "source": [
    "## Intervals using Python classes\n",
    "Now we can write the same object using Python classes. \n",
    "This requires a different syntax for creating the object and for accessing its elements, and for calling its methods.\n",
    "\n",
    "### Defining an interval object using a Python class\n",
    "Here we show how to define an interval using Python classes"
   ]
  },
  {
   "cell_type": "code",
   "execution_count": 6,
   "id": "6801adff-9e1c-4d7b-9da2-0fa455e90a6e",
   "metadata": {
    "tags": []
   },
   "outputs": [
    {
     "name": "stdout",
     "output_type": "stream",
     "text": [
      "z= [9,18]\n"
     ]
    }
   ],
   "source": [
    "'''\n",
    "Intervals using Python classes\n",
    "'''\n",
    "\n",
    "class Interval():\n",
    "    def __init__(self,a,b):  # similar to make_interval(a,b)\n",
    "        self.lo = a  # instance variables are lo and hi\n",
    "        self.hi = b\n",
    "        \n",
    "    def __str__(self):\n",
    "        ''' converts the interval to a string '''\n",
    "        return(f'[{self.lo},{self.hi}]')\n",
    "    \n",
    "    def __eq__(self,other):\n",
    "        ''' test if this interval equals the other '''\n",
    "        return self.lo==other.lo and self.hi==other.hi\n",
    "    \n",
    "    def width(self):\n",
    "        ''' return the width of the interval '''\n",
    "        return self.hi - self.lo  # self['hi']-self['lo']  or self[1]=self[0]\n",
    "    \n",
    "    def contains(self,x):\n",
    "        ''' return true if x is in the interval '''\n",
    "        return self.lo<=x<= self.hi\n",
    "    \n",
    "    def add(self, other):\n",
    "        new_lo = self.lo + other.lo\n",
    "        new_hi = self.hi + other.hi\n",
    "        return Interval(new_lo,new_hi)\n",
    "    \n",
    "    def sub(self, other):\n",
    "        new_lo = self.lo -other.hi\n",
    "        new_hi = self.hi -other.lo\n",
    "        return Interval(new_lo,new_hi)\n",
    "\n",
    "x = Interval(13,20)\n",
    "y = Interval(2,4)\n",
    "z = x.sub(y)\n",
    "print('z=',z)"
   ]
  },
  {
   "cell_type": "markdown",
   "id": "109524f6-5ecf-461d-8bbe-667d6d109bb9",
   "metadata": {},
   "source": [
    "## Using an interval object\n",
    "Once we create an interval object, \n",
    "``` python\n",
    "x = Interval(1,2)\n",
    "```\n",
    "we can access its fields using the dot notation\n",
    "``` python\n",
    "print(x.lo, x.hi)\n",
    "```\n",
    "and we can invoke its methods also using the dot notation\n",
    "``` python\n",
    "w = x.width()\n",
    "if x.contains(1.5):\n",
    "    print('1.5 is in',x)\n",
    "else:\n",
    "    print('1.5 is not in',x)\n",
    "```"
   ]
  },
  {
   "cell_type": "code",
   "execution_count": 7,
   "id": "b137df69-0c5f-4565-983b-49cb705204d3",
   "metadata": {
    "tags": []
   },
   "outputs": [
    {
     "name": "stdout",
     "output_type": "stream",
     "text": [
      "[1,2] has width 1\n",
      "1.5 is in [1,2]\n",
      "x= [1,2]\n",
      "y= [1,3]\n",
      "z= [1,2]\n",
      "x==y? False\n",
      "x==z? True\n",
      "w= [2,5]\n"
     ]
    }
   ],
   "source": [
    "# Let's try working with Interval objects here\n",
    "x = Interval(1,2)\n",
    "\n",
    "print(x,'has width',x.width())\n",
    "\n",
    "\n",
    "if x.contains(1.5):\n",
    "    print(1.5,'is in',x)\n",
    "else:\n",
    "    print(1.5,'is not in',x)\n",
    "\n",
    "y = Interval(1,3)\n",
    "z = Interval(1,2)\n",
    "print('x=',x)\n",
    "print('y=',y)\n",
    "print('z=',z)\n",
    "print('x==y?',x==y)\n",
    "print('x==z?',x==z)\n",
    "\n",
    "w = x.add(y)\n",
    "print('w=',w)"
   ]
  },
  {
   "cell_type": "markdown",
   "id": "7a954812-ca7d-4d47-bc7b-ad4ebff01c6c",
   "metadata": {},
   "source": []
  },
  {
   "cell_type": "markdown",
   "id": "bd5ea70b-80b0-4176-830f-fa14ad68f71a",
   "metadata": {},
   "source": [
    "## Methods vs Functions\n",
    "Notice that the Interval is defined with a \"class\" keyword\n",
    "and we access the fields lo and hi with x.lo and x.hi rather than\n",
    "y['lo'] and y['hi'] as we did with dictionaries.\n",
    "\n",
    "Likewise, with dictionaries we define functions width, and contains\n",
    "and call them by passing the dictionary as an argument\n",
    "``` python\n",
    "width(y)\n",
    "contains(y,1.5)\n",
    "```\n",
    "but with classes the object comes first:\n",
    "``` python\n",
    "x.width()\n",
    "x.contains(1.5)\n",
    "```\n",
    "We have already seen this difference in the math package and string classes.\n",
    "The math package defines functions\n",
    "``` python\n",
    "math.cos(math.pi/2)\n",
    "```\n",
    "but with string objects we sometimes use functions,when tend to use methods\n",
    "``` python\n",
    "x = \"hello world\"\n",
    "print(len(x))\n",
    "```\n",
    "and sometimes use methods\n",
    "``` python\n",
    "print(x.upper())\n",
    "print(x.split())\n",
    "```\n",
    "\n"
   ]
  },
  {
   "cell_type": "markdown",
   "id": "d2b557d4-1498-48c9-9d26-dd1027655798",
   "metadata": {},
   "source": [
    "## Exercise \n",
    "Write a method add(self,other) which returns a new Interval obtained by adding the lo's and hi's of self and other to get the lo and hi of the new interval --- just as we did earlier with dictionaries."
   ]
  },
  {
   "cell_type": "code",
   "execution_count": null,
   "id": "e2733e1f-e2e4-435f-a448-1b01c8e4de54",
   "metadata": {},
   "outputs": [],
   "source": []
  },
  {
   "cell_type": "code",
   "execution_count": null,
   "id": "f654cc33-a80f-4c7a-aa21-b1b59426e431",
   "metadata": {},
   "outputs": [],
   "source": []
  },
  {
   "cell_type": "code",
   "execution_count": 8,
   "id": "e01be91f-4e9f-45f0-a3f9-41add7c36495",
   "metadata": {
    "tags": []
   },
   "outputs": [
    {
     "name": "stdout",
     "output_type": "stream",
     "text": [
      "5 7 4\n",
      "<class '__main__.Test'> True\n"
     ]
    }
   ],
   "source": [
    "class Test():\n",
    "    pass\n",
    "x = Test()\n",
    "y = Test()\n",
    "x.a =5\n",
    "y.a = 4\n",
    "x.b = 7\n",
    "print(x.a,x.b,y.a)\n",
    "dir(x)\n",
    "print(type(x),isinstance(x,Test))"
   ]
  },
  {
   "cell_type": "code",
   "execution_count": 25,
   "id": "1921c508-6175-46e0-8d83-aca97a83aff7",
   "metadata": {
    "tags": []
   },
   "outputs": [],
   "source": [
    "class Complex():\n",
    "    def __init__(self,a,b):\n",
    "        self.re = a\n",
    "        self.im = b\n",
    "    def __str__(self):\n",
    "        return f'{self.re}+{self.im}i'\n",
    "    def __eq__(self,other):\n",
    "        print(self,other,self.re==other.re,self.im==other.im)\n",
    "        return self.re==other.re and self.im==other.im\n",
    "    def add(self,other):\n",
    "        return Complex(self.re+other.re, self.im+other.im)\n",
    "    def mul(self,other):\n",
    "        return Complex(self.re*other.re - self.im*other.im, self.re*other.im+self.im*other.re)\n",
    "    \n",
    "    def __add__(self,other):\n",
    "        ''' allow user to write x+y for x.add(y) '''\n",
    "        return self.add(other)\n",
    "    def __mul__(self,other):\n",
    "        ''' overloading: allow user to x*y for x.mul(y)'''\n",
    "        return self.mul(other)\n",
    "    def __truediv__(self,other):\n",
    "        return 'truediv'\n",
    "    def __div__(self,other):\n",
    "        return 'div'\n",
    "    \n",
    "\n"
   ]
  },
  {
   "cell_type": "code",
   "execution_count": 27,
   "id": "8eaba823-1d64-4c71-a103-5f16dd9bbf65",
   "metadata": {
    "tags": []
   },
   "outputs": [
    {
     "name": "stdout",
     "output_type": "stream",
     "text": [
      "-1+3i -1+3i True True\n",
      "1+1i 1+2i -1+3i -1+3i True\n",
      "truediv\n",
      "truediv\n"
     ]
    }
   ],
   "source": [
    "z = Complex(1,1)\n",
    "w = Complex(1,2)\n",
    "u = z.mul(w)\n",
    "v = z*w\n",
    "print(z,w,u,v,u==v)\n",
    "print(u/v)\n",
    "\n"
   ]
  },
  {
   "cell_type": "code",
   "execution_count": 11,
   "id": "4719487d-a28d-4b9b-ab80-dd991ac2602d",
   "metadata": {
    "tags": []
   },
   "outputs": [
    {
     "name": "stdout",
     "output_type": "stream",
     "text": [
      "1+1i\n"
     ]
    },
    {
     "data": {
      "text/plain": [
       "['__add__',\n",
       " '__class__',\n",
       " '__delattr__',\n",
       " '__dict__',\n",
       " '__dir__',\n",
       " '__doc__',\n",
       " '__eq__',\n",
       " '__format__',\n",
       " '__ge__',\n",
       " '__getattribute__',\n",
       " '__gt__',\n",
       " '__hash__',\n",
       " '__init__',\n",
       " '__init_subclass__',\n",
       " '__le__',\n",
       " '__lt__',\n",
       " '__module__',\n",
       " '__mul__',\n",
       " '__ne__',\n",
       " '__new__',\n",
       " '__reduce__',\n",
       " '__reduce_ex__',\n",
       " '__repr__',\n",
       " '__setattr__',\n",
       " '__sizeof__',\n",
       " '__str__',\n",
       " '__subclasshook__',\n",
       " '__weakref__',\n",
       " 'add',\n",
       " 'im',\n",
       " 'mul',\n",
       " 're']"
      ]
     },
     "execution_count": 11,
     "metadata": {},
     "output_type": "execute_result"
    }
   ],
   "source": [
    "z = Complex(1,1)\n",
    "print(z)\n",
    "dir(z)"
   ]
  },
  {
   "cell_type": "code",
   "execution_count": null,
   "id": "2047458f-ad35-427d-bc72-eaa270f684f8",
   "metadata": {},
   "outputs": [],
   "source": []
  }
 ],
 "metadata": {
  "kernelspec": {
   "display_name": "Python 3 (ipykernel)",
   "language": "python",
   "name": "python3"
  },
  "language_info": {
   "codemirror_mode": {
    "name": "ipython",
    "version": 3
   },
   "file_extension": ".py",
   "mimetype": "text/x-python",
   "name": "python",
   "nbconvert_exporter": "python",
   "pygments_lexer": "ipython3",
   "version": "3.10.7"
  }
 },
 "nbformat": 4,
 "nbformat_minor": 5
}
