{
 "cells": [
  {
   "cell_type": "markdown",
   "id": "2a842419-1165-4729-bdf6-c4a7347410f9",
   "metadata": {},
   "source": [
    "# Code to create lists of random integers"
   ]
  },
  {
   "cell_type": "code",
   "execution_count": 10,
   "id": "cab34f21-7af3-4ccc-9fc8-51ddff6cfe37",
   "metadata": {
    "tags": []
   },
   "outputs": [],
   "source": [
    "import random\n",
    "import time"
   ]
  },
  {
   "cell_type": "code",
   "execution_count": 3,
   "id": "bd94f0f1-89a6-4386-a362-3e7de0bf9f0e",
   "metadata": {
    "tags": []
   },
   "outputs": [
    {
     "data": {
      "text/plain": [
       "[35, 12, 18, 2, 86, 1, 8, 50, 12, 1]"
      ]
     },
     "execution_count": 3,
     "metadata": {},
     "output_type": "execute_result"
    }
   ],
   "source": [
    "vals = [random.randint(0,100) for i in range(10)]\n",
    "vals"
   ]
  },
  {
   "cell_type": "code",
   "execution_count": 4,
   "id": "78c48b35-045d-4d37-a865-bcf49e299702",
   "metadata": {
    "tags": []
   },
   "outputs": [],
   "source": [
    "vals.sort()"
   ]
  },
  {
   "cell_type": "code",
   "execution_count": 5,
   "id": "521f89a2-3aab-438e-80af-170e138db9bf",
   "metadata": {
    "tags": []
   },
   "outputs": [
    {
     "data": {
      "text/plain": [
       "[1, 1, 2, 8, 12, 12, 18, 35, 50, 86]"
      ]
     },
     "execution_count": 5,
     "metadata": {},
     "output_type": "execute_result"
    }
   ],
   "source": [
    "vals"
   ]
  },
  {
   "cell_type": "code",
   "execution_count": 6,
   "id": "31a20a11-2dff-4a74-b702-262d05e3df0d",
   "metadata": {},
   "outputs": [
    {
     "data": {
      "text/plain": [
       "[18, 12, 77, 61, 85, 20, 37, 64, 15, 35]"
      ]
     },
     "execution_count": 6,
     "metadata": {},
     "output_type": "execute_result"
    }
   ],
   "source": [
    "vals = [random.randint(0,100) for i in range(10)]\n",
    "vals"
   ]
  },
  {
   "cell_type": "code",
   "execution_count": 9,
   "id": "089f3d14-a23b-46ce-8b33-944980ea4bf7",
   "metadata": {
    "tags": []
   },
   "outputs": [
    {
     "data": {
      "text/plain": [
       "[85, 77, 64, 61, 37, 35, 20, 18, 15, 12]"
      ]
     },
     "execution_count": 9,
     "metadata": {},
     "output_type": "execute_result"
    }
   ],
   "source": [
    "svals=sorted(vals,reverse=True)\n",
    "svals"
   ]
  },
  {
   "cell_type": "code",
   "execution_count": 8,
   "id": "2ac5f3ce-6bc4-4cbf-ae4f-40b5df69787c",
   "metadata": {
    "tags": []
   },
   "outputs": [
    {
     "data": {
      "text/plain": [
       "[18, 12, 77, 61, 85, 20, 37, 64, 15, 35]"
      ]
     },
     "execution_count": 8,
     "metadata": {},
     "output_type": "execute_result"
    }
   ],
   "source": [
    "vals"
   ]
  },
  {
   "cell_type": "code",
   "execution_count": 12,
   "id": "09d87959-0570-4a34-9457-cd8f2294dcf1",
   "metadata": {
    "tags": []
   },
   "outputs": [
    {
     "data": {
      "text/plain": [
       "504809308467689"
      ]
     },
     "execution_count": 12,
     "metadata": {},
     "output_type": "execute_result"
    }
   ],
   "source": [
    "start = time.perf_counter_ns()\n",
    "start"
   ]
  },
  {
   "cell_type": "code",
   "execution_count": 13,
   "id": "72425532-7879-40db-930d-023840eaa1dd",
   "metadata": {
    "tags": []
   },
   "outputs": [
    {
     "name": "stdout",
     "output_type": "stream",
     "text": [
      "504809308467689 504838677842250 29369374561\n"
     ]
    }
   ],
   "source": [
    "end = time.perf_counter_ns()\n",
    "print(start,end,end-start)"
   ]
  },
  {
   "cell_type": "code",
   "execution_count": 14,
   "id": "795ea262-83f5-49ec-b236-777dc3f14054",
   "metadata": {
    "tags": []
   },
   "outputs": [
    {
     "data": {
      "text/plain": [
       "29.369374561"
      ]
     },
     "execution_count": 14,
     "metadata": {},
     "output_type": "execute_result"
    }
   ],
   "source": [
    "(end-start)/1000000000"
   ]
  },
  {
   "cell_type": "code",
   "execution_count": 15,
   "id": "f8c02d36-d772-410f-966c-e897bb302cca",
   "metadata": {
    "tags": []
   },
   "outputs": [
    {
     "name": "stdout",
     "output_type": "stream",
     "text": [
      "1000000\n"
     ]
    }
   ],
   "source": [
    "vals = [random.randint(0,1000000) for i in range(1000000)]\n",
    "print(len(vals))"
   ]
  },
  {
   "cell_type": "code",
   "execution_count": 24,
   "id": "21183edc-e288-433c-a8dd-2be3a56619ca",
   "metadata": {
    "tags": []
   },
   "outputs": [],
   "source": [
    "from bubblesort import bubblesort\n",
    "from mergesort import mergesort"
   ]
  },
  {
   "cell_type": "code",
   "execution_count": 23,
   "id": "6d218203-f179-4043-8ff8-f982548f8e65",
   "metadata": {
    "tags": []
   },
   "outputs": [
    {
     "name": "stdout",
     "output_type": "stream",
     "text": [
      "2000\n",
      "time was 0.001893313\n"
     ]
    }
   ],
   "source": [
    "vals = [random.randint(0,1000000) for i in range(2000)]\n",
    "print(len(vals))\n",
    "start = time.perf_counter_ns()\n",
    "vals.sort()\n",
    "end = time.perf_counter_ns()\n",
    "print('time was',(end-start)/1000000000)"
   ]
  },
  {
   "cell_type": "code",
   "execution_count": 31,
   "id": "0c76d7c5-919c-4a03-a51b-1c6a0c67d266",
   "metadata": {
    "tags": []
   },
   "outputs": [
    {
     "name": "stdout",
     "output_type": "stream",
     "text": [
      "1000\n",
      "time was 0.872715537\n"
     ]
    }
   ],
   "source": [
    "vals = [random.randint(0,1000000) for i in range(1000)]\n",
    "print(len(vals))\n",
    "start = time.perf_counter_ns()\n",
    "svals = bubblesort(vals)\n",
    "end = time.perf_counter_ns()\n",
    "print('time was',(end-start)/1000000000)\n"
   ]
  },
  {
   "cell_type": "code",
   "execution_count": 30,
   "id": "bf2d17fc-859a-4c01-81df-2c207a974c84",
   "metadata": {
    "tags": []
   },
   "outputs": [
    {
     "name": "stdout",
     "output_type": "stream",
     "text": [
      "1000000\n",
      "time was 35.905689063\n"
     ]
    }
   ],
   "source": [
    "vals = [random.randint(0,1000000) for i in range(1000000)]\n",
    "print(len(vals))\n",
    "start = time.perf_counter_ns()\n",
    "svals= mergesort(vals)\n",
    "end = time.perf_counter_ns()\n",
    "print('time was',(end-start)/1000000000)"
   ]
  },
  {
   "cell_type": "code",
   "execution_count": 33,
   "id": "96a1d819-be46-4dec-a31a-401b86761be1",
   "metadata": {
    "tags": []
   },
   "outputs": [
    {
     "data": {
      "text/plain": [
       "11.574074074074074"
      ]
     },
     "execution_count": 33,
     "metadata": {},
     "output_type": "execute_result"
    }
   ],
   "source": [
    "1000000/60/60/24\n"
   ]
  },
  {
   "cell_type": "code",
   "execution_count": null,
   "id": "e2bbab1c-3764-4898-937c-5554900d263f",
   "metadata": {},
   "outputs": [],
   "source": []
  }
 ],
 "metadata": {
  "kernelspec": {
   "display_name": "Python 3 (ipykernel)",
   "language": "python",
   "name": "python3"
  },
  "language_info": {
   "codemirror_mode": {
    "name": "ipython",
    "version": 3
   },
   "file_extension": ".py",
   "mimetype": "text/x-python",
   "name": "python",
   "nbconvert_exporter": "python",
   "pygments_lexer": "ipython3",
   "version": "3.10.7"
  }
 },
 "nbformat": 4,
 "nbformat_minor": 5
}
