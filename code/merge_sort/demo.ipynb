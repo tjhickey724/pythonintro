{
 "cells": [
  {
   "cell_type": "markdown",
   "id": "2a842419-1165-4729-bdf6-c4a7347410f9",
   "metadata": {},
   "source": [
    "# Code to create lists of random integers"
   ]
  },
  {
   "cell_type": "code",
   "execution_count": 1,
   "id": "cab34f21-7af3-4ccc-9fc8-51ddff6cfe37",
   "metadata": {
    "tags": []
   },
   "outputs": [],
   "source": [
    "import random"
   ]
  },
  {
   "cell_type": "code",
   "execution_count": 5,
   "id": "bd94f0f1-89a6-4386-a362-3e7de0bf9f0e",
   "metadata": {
    "tags": []
   },
   "outputs": [
    {
     "data": {
      "text/plain": [
       "[36, 37, 41, 70, 51, 41, 13, 65, 58, 25]"
      ]
     },
     "execution_count": 5,
     "metadata": {},
     "output_type": "execute_result"
    }
   ],
   "source": [
    "vals = [random.randint(0,100) for i in range(10)]\n",
    "vals"
   ]
  },
  {
   "cell_type": "code",
   "execution_count": 3,
   "id": "78c48b35-045d-4d37-a865-bcf49e299702",
   "metadata": {
    "tags": []
   },
   "outputs": [],
   "source": [
    "vals.sort()"
   ]
  },
  {
   "cell_type": "code",
   "execution_count": 4,
   "id": "521f89a2-3aab-438e-80af-170e138db9bf",
   "metadata": {
    "tags": []
   },
   "outputs": [
    {
     "data": {
      "text/plain": [
       "[4, 14, 16, 24, 26, 46, 81, 83, 85, 98]"
      ]
     },
     "execution_count": 4,
     "metadata": {},
     "output_type": "execute_result"
    }
   ],
   "source": [
    "vals"
   ]
  },
  {
   "cell_type": "code",
   "execution_count": null,
   "id": "31a20a11-2dff-4a74-b702-262d05e3df0d",
   "metadata": {},
   "outputs": [],
   "source": []
  }
 ],
 "metadata": {
  "kernelspec": {
   "display_name": "Python 3 (ipykernel)",
   "language": "python",
   "name": "python3"
  },
  "language_info": {
   "codemirror_mode": {
    "name": "ipython",
    "version": 3
   },
   "file_extension": ".py",
   "mimetype": "text/x-python",
   "name": "python",
   "nbconvert_exporter": "python",
   "pygments_lexer": "ipython3",
   "version": "3.10.7"
  }
 },
 "nbformat": 4,
 "nbformat_minor": 5
}
