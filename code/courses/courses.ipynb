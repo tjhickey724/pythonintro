{
 "cells": [
  {
   "cell_type": "code",
   "execution_count": 1,
   "id": "2ba4514f-282f-4acc-b48b-1ed73610acac",
   "metadata": {
    "tags": []
   },
   "outputs": [],
   "source": [
    "import csv\n",
    "#from matplotlib import pyplot as plt"
   ]
  },
  {
   "cell_type": "code",
   "execution_count": 2,
   "id": "e658fb31-29c4-4bd1-9a06-92afbf78c34c",
   "metadata": {
    "tags": []
   },
   "outputs": [
    {
     "name": "stdout",
     "output_type": "stream",
     "text": [
      "6850\n"
     ]
    }
   ],
   "source": [
    "with open('courses.csv','r') as infile:\n",
    "    data = list(csv.DictReader(infile))\n",
    "print(len(data))"
   ]
  },
  {
   "cell_type": "code",
   "execution_count": 3,
   "id": "91dc5111-7402-4064-b8d6-1f5b252d2a1a",
   "metadata": {
    "tags": []
   },
   "outputs": [
    {
     "data": {
      "text/plain": [
       "{'limit': 'None',\n",
       " 'enrolled': '1',\n",
       " 'details': '',\n",
       " 'type': 'section',\n",
       " 'status_text': 'Open',\n",
       " 'section': '28',\n",
       " 'waiting': '0',\n",
       " 'instructor': 'Amy Singer Amy Singer amysinger@brandeis.edu',\n",
       " 'coinstructors': '',\n",
       " 'code': \"['HIST', '300E']\",\n",
       " 'subject': 'HIST',\n",
       " 'coursenum': '300E',\n",
       " 'name': 'Directed Research for PhD Students',\n",
       " 'independent_study': 'True',\n",
       " 'term': '1213',\n",
       " 'description': '<p>Students will normally elect one research topic in the fall term and the spring of the first year. Each is designed to provide experience in designing, researching, and writing a substantial essay of a monographic character, based on extensive use of sources. Each is the equivalent of two full courses. Specific research topics are selected by the student in consultation with the adviser. Usually offered every year.<br />Staff</p>'}"
      ]
     },
     "execution_count": 3,
     "metadata": {},
     "output_type": "execute_result"
    }
   ],
   "source": [
    "data[1000]"
   ]
  },
  {
   "cell_type": "code",
   "execution_count": 5,
   "id": "b0674524-2bb3-43c3-b4b0-ef18abdc6bb2",
   "metadata": {
    "tags": []
   },
   "outputs": [
    {
     "data": {
      "text/plain": [
       "[('Fundamentals of Software Engineering', '1221', '142'),\n",
       " ('Discrete Structures', '1213', '129'),\n",
       " ('Mobile Application Development', '1213', '101'),\n",
       " ('Mobile Application Development', '1222', '17'),\n",
       " ('Web Application Development', '1222', '19'),\n",
       " ('Introduction to Problem Solving in Python', '1223', '65'),\n",
       " ('Introduction to 3-D Animation', '1223', '125')]"
      ]
     },
     "execution_count": 5,
     "metadata": {},
     "output_type": "execute_result"
    }
   ],
   "source": [
    "[   (d['name'],d['term'],d['enrolled']) \n",
    "    for d in data \n",
    "     if \"tjhickey@brandeis.edu\" in d['instructor']\n",
    "         and \n",
    "         d['independent_study'] != 'True']"
   ]
  },
  {
   "cell_type": "markdown",
   "id": "5cb54547-8c5f-412e-8c24-0738c8b8b7eb",
   "metadata": {},
   "source": [
    "# Counting number of independent study courses\n",
    "which do have '0' enrolled...\n"
   ]
  },
  {
   "cell_type": "code",
   "execution_count": 8,
   "id": "a6feef36-18da-4223-9269-9638c4e141b0",
   "metadata": {
    "tags": []
   },
   "outputs": [
    {
     "name": "stdout",
     "output_type": "stream",
     "text": [
      "954\n"
     ]
    }
   ],
   "source": [
    "i_study = [d for d in data if d['independent_study']=='True' and d['enrolled']!='0']\n",
    "print(len(i_study))"
   ]
  },
  {
   "cell_type": "code",
   "execution_count": null,
   "id": "f9444a45-e5f5-4257-8b0b-e44448b8dc89",
   "metadata": {},
   "outputs": [],
   "source": []
  }
 ],
 "metadata": {
  "kernelspec": {
   "display_name": "Python 3 (ipykernel)",
   "language": "python",
   "name": "python3"
  },
  "language_info": {
   "codemirror_mode": {
    "name": "ipython",
    "version": 3
   },
   "file_extension": ".py",
   "mimetype": "text/x-python",
   "name": "python",
   "nbconvert_exporter": "python",
   "pygments_lexer": "ipython3",
   "version": "3.10.7"
  }
 },
 "nbformat": 4,
 "nbformat_minor": 5
}
