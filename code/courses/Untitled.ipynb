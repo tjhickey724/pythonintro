{
 "cells": [
  {
   "cell_type": "code",
   "execution_count": 25,
   "id": "2ba4514f-282f-4acc-b48b-1ed73610acac",
   "metadata": {
    "tags": []
   },
   "outputs": [],
   "source": [
    "import csv\n",
    "from matplotlib import pyplot as plt"
   ]
  },
  {
   "cell_type": "code",
   "execution_count": 2,
   "id": "e658fb31-29c4-4bd1-9a06-92afbf78c34c",
   "metadata": {
    "tags": []
   },
   "outputs": [
    {
     "name": "stdout",
     "output_type": "stream",
     "text": [
      "6850\n"
     ]
    }
   ],
   "source": [
    "with open('courses.csv','r') as infile:\n",
    "    data = list(csv.DictReader(infile))\n",
    "print(len(data))"
   ]
  },
  {
   "cell_type": "code",
   "execution_count": 8,
   "id": "91dc5111-7402-4064-b8d6-1f5b252d2a1a",
   "metadata": {
    "tags": []
   },
   "outputs": [
    {
     "data": {
      "text/plain": [
       "{'limit': 'None',\n",
       " 'enrolled': '1',\n",
       " 'details': '',\n",
       " 'type': 'section',\n",
       " 'status_text': 'Open',\n",
       " 'section': '28',\n",
       " 'waiting': '0',\n",
       " 'instructor': 'Amy Singer Amy Singer amysinger@brandeis.edu',\n",
       " 'coinstructors': '',\n",
       " 'code': \"['HIST', '300E']\",\n",
       " 'subject': 'HIST',\n",
       " 'coursenum': '300E',\n",
       " 'name': 'Directed Research for PhD Students',\n",
       " 'independent_study': 'True',\n",
       " 'term': '1213',\n",
       " 'description': '<p>Students will normally elect one research topic in the fall term and the spring of the first year. Each is designed to provide experience in designing, researching, and writing a substantial essay of a monographic character, based on extensive use of sources. Each is the equivalent of two full courses. Specific research topics are selected by the student in consultation with the adviser. Usually offered every year.<br />Staff</p>'}"
      ]
     },
     "execution_count": 8,
     "metadata": {},
     "output_type": "execute_result"
    }
   ],
   "source": [
    "data[1000]"
   ]
  },
  {
   "cell_type": "code",
   "execution_count": 15,
   "id": "b0674524-2bb3-43c3-b4b0-ef18abdc6bb2",
   "metadata": {
    "tags": []
   },
   "outputs": [
    {
     "data": {
      "text/plain": [
       "[('Fundamentals of Software Engineering', '1221', '142'),\n",
       " ('Discrete Structures', '1213', '129'),\n",
       " ('Mobile Application Development', '1213', '101'),\n",
       " ('Mobile Application Development', '1222', '17'),\n",
       " ('Web Application Development', '1222', '19'),\n",
       " ('Introduction to Problem Solving in Python', '1223', '65'),\n",
       " ('Introduction to 3-D Animation', '1223', '125')]"
      ]
     },
     "execution_count": 15,
     "metadata": {},
     "output_type": "execute_result"
    }
   ],
   "source": [
    "[(d['name'],d['term'],d['enrolled']) for d in data if \"Hickey\" in d['instructor'] and d['independent_study']!= 'True']"
   ]
  },
  {
   "cell_type": "code",
   "execution_count": 16,
   "id": "709edeef-f3d7-4f5b-a385-ad8b55d68782",
   "metadata": {
    "tags": []
   },
   "outputs": [
    {
     "data": {
      "text/plain": [
       "629"
      ]
     },
     "execution_count": 16,
     "metadata": {},
     "output_type": "execute_result"
    }
   ],
   "source": [
    "def total_taught(instructor):\n",
    "    return sum([int(d['enrolled']) for d in data if instructor in d['instructor']])\n",
    "total_taught('Hickey')"
   ]
  },
  {
   "cell_type": "code",
   "execution_count": 17,
   "id": "e3788a73-0a44-4d1b-b14a-f15cafa4ff6b",
   "metadata": {
    "tags": []
   },
   "outputs": [
    {
     "name": "stdout",
     "output_type": "stream",
     "text": [
      "927\n"
     ]
    }
   ],
   "source": [
    "teachers = {d['instructor'] for d in data}\n",
    "print(len(teachers))"
   ]
  },
  {
   "cell_type": "code",
   "execution_count": 23,
   "id": "f4ce3e18-f125-4908-b36c-2e187525ed73",
   "metadata": {
    "tags": []
   },
   "outputs": [
    {
     "data": {
      "text/plain": [
       "[(2187, 'Leah Berkenwald Leah Berkenwald leahb@brandeis.edu'),\n",
       " (770, 'Bryan Ingoglia Bryan Ingoglia ingoglia@brandeis.edu'),\n",
       " (634, 'James Morris James Morris jmorris@brandeis.edu'),\n",
       " (629, 'Timothy Hickey Timothy Hickey tjhickey@brandeis.edu'),\n",
       " (560, 'Ahmad Namini Ahmad Namini anamini@brandeis.edu'),\n",
       " (557, 'Iraklis Tsekourakis Iraklis Tsekourakis tsekourakis@brandeis.edu'),\n",
       " (518, 'Maria Miara Maria Miara mmiara@brandeis.edu'),\n",
       " (510, 'Milos Dolnik Milos Dolnik dolnik@brandeis.edu'),\n",
       " (501,\n",
       "  'Melissa Kosinski-Collins Melissa Kosinski-Collins kosinski@brandeis.edu'),\n",
       " (484, 'Rachel Woodruff Rachel Woodruff woodruff@brandeis.edu'),\n",
       " (482, 'unknown unknown unknown@brandeis.edu'),\n",
       " (470, 'Daniel Breen Daniel Breen dbreen91@brandeis.edu'),\n",
       " (447, 'Stephanie Murray Stephanie Murray murray@brandeis.edu'),\n",
       " (446, 'none none none@brandeis.edu'),\n",
       " (435, 'Peter Mistark Peter Mistark pmistark@brandeis.edu'),\n",
       " (431, 'Geoffrey Clarke Geoffrey Clarke geoffclarke@brandeis.edu'),\n",
       " (400, 'Claudia Novack Claudia Novack novack@brandeis.edu'),\n",
       " (399, 'Teresa Mitchell Teresa Mitchell tmitch@brandeis.edu'),\n",
       " (386, 'Kene Piasta Kene Piasta kpiasta@brandeis.edu'),\n",
       " (384, 'James Zotz James Zotz zotz@brandeis.edu'),\n",
       " (378, 'Seth Fraden Seth Fraden fraden@brandeis.edu'),\n",
       " (350, 'Antonella Di Lillo Antonella Di Lillo dilant@brandeis.edu'),\n",
       " (303, 'Adam Marks Adam Marks amarks555@brandeis.edu'),\n",
       " (300, 'Carole Ann Baer Carole Ann Baer cbaer@brandeis.edu'),\n",
       " (295, 'Emily Westover Emily Westover westover@brandeis.edu'),\n",
       " (285, 'Jon Chilingerian Jon Chilingerian chilinge@brandeis.edu'),\n",
       " (281, 'Sarah Lamb Sarah Lamb lamb@brandeis.edu'),\n",
       " (279, 'Hamza Abdurezak Hamza Abdurezak abdurez@brandeis.edu'),\n",
       " (263, 'Michael Strand Michael Strand mstrand@brandeis.edu'),\n",
       " (261, 'Arnold Kamis Arnold Kamis akamis@brandeis.edu'),\n",
       " (260, 'Jutta Wolf Jutta Wolf jmw@brandeis.edu'),\n",
       " (255, 'Carole Carlson Carole Carlson ccarlson@brandeis.edu'),\n",
       " (249, 'James Howard James Howard jameshoward@brandeis.edu'),\n",
       " (248, 'Philippe Wells Philippe Wells pwells@brandeis.edu'),\n",
       " (246, 'Keridwen Luis Keridwen Luis luis@brandeis.edu'),\n",
       " (239, 'Natali Vladis Natali Vladis nathalievladis@brandeis.edu'),\n",
       " (236, 'Brenda Anderson Brenda Anderson banders@brandeis.edu'),\n",
       " (232, 'Chandler Rosenberger Chandler Rosenberger crosen@brandeis.edu'),\n",
       " (226, 'Ellen Wright Ellen Wright ejwright@brandeis.edu'),\n",
       " (225, 'Hannah Snyder Hannah Snyder hrsnyder@brandeis.edu'),\n",
       " (220, 'Dan Perlman Dan Perlman perlman@brandeis.edu'),\n",
       " (216, 'Xing Hang Xing Hang xinghang@brandeis.edu'),\n",
       " (216, 'Nelson Sa Nelson Sa nesa@brandeis.edu'),\n",
       " (214, 'Paul DiZio Paul DiZio dizio@brandeis.edu'),\n",
       " (210, 'Sandra Jones Sandra Jones joness@brandeis.edu'),\n",
       " (207, 'Matthew Petit Matthew Petit mpetit@brandeis.edu'),\n",
       " (201, 'Rosana Darang Rosana Darang rdarang@brandeis.edu'),\n",
       " (198, 'Anna Scherbina Anna Scherbina ascherbina@brandeis.edu'),\n",
       " (197, 'Galit Eizman Galit Eizman eizmang@brandeis.edu'),\n",
       " (196, 'Andrew Molinsky Andrew Molinsky molinsky@brandeis.edu')]"
      ]
     },
     "execution_count": 23,
     "metadata": {},
     "output_type": "execute_result"
    }
   ],
   "source": [
    "teaching_load = sorted([(total_taught(instr),instr) for instr in teachers],reverse=True)\n",
    "teaching_load[:50]\n"
   ]
  },
  {
   "cell_type": "code",
   "execution_count": 66,
   "id": "66700f41-8598-4757-a032-2bc31b7edaa6",
   "metadata": {
    "tags": []
   },
   "outputs": [
    {
     "data": {
      "text/plain": [
       "Text(0.5, 1.0, '847 faculty with teaching loads between 0 and 800')"
      ]
     },
     "execution_count": 66,
     "metadata": {},
     "output_type": "execute_result"
    },
    {
     "data": {
      "image/png": "[encoded data removed]",
      "text/plain": [
       "<Figure size 640x480 with 1 Axes>"
      ]
     },
     "metadata": {},
     "output_type": "display_data"
    }
   ],
   "source": [
    "minn = 0\n",
    "maxn = 800\n",
    "loads = [x[0] for x in teaching_load if minn<x[0]<=maxn]\n",
    "plt.hist(loads,bins=min(maxn,100))\n",
    "plt.grid()\n",
    "plt.title(str(len(loads))+\" faculty with teaching loads between \"+str(minn)+\" and \"+str(maxn))"
   ]
  },
  {
   "cell_type": "code",
   "execution_count": 69,
   "id": "eec9b2f3-b115-4f80-9208-4a325409b28a",
   "metadata": {
    "tags": []
   },
   "outputs": [
    {
     "data": {
      "text/plain": [
       "['Latin America in Ethnographic Perspective',\n",
       " 'Perfect Love?',\n",
       " 'Indian Love Stories',\n",
       " 'Sociology of Love',\n",
       " 'Bollywood: Popular Film, Genre, and Society',\n",
       " 'Eros and Desire in the English Renaissance']"
      ]
     },
     "execution_count": 69,
     "metadata": {},
     "output_type": "execute_result"
    }
   ],
   "source": [
    "[d['name'] for d in data if 'love' in d['description'].lower().split()]"
   ]
  },
  {
   "cell_type": "code",
   "execution_count": 77,
   "id": "cb8c3a28-54a2-4eac-a042-dd47fb15960b",
   "metadata": {
    "tags": []
   },
   "outputs": [],
   "source": [
    "def remove_punctuation(word):\n",
    "    return(\"\".join([w for w in word if w in \"abcdefghijklmnopqrstuvwxyz\"]))\n",
    "remove_punctuation(\"('amazing\\'s!!?)')\")\n",
    "def normalize(words):\n",
    "    return [remove_punctuation(word.lower()) for word in words.split()]\n",
    "            "
   ]
  },
  {
   "cell_type": "code",
   "execution_count": 87,
   "id": "a0a5702b-e76d-4e39-ac89-6312bff55b47",
   "metadata": {
    "tags": []
   },
   "outputs": [
    {
     "data": {
      "text/plain": [
       "['Latin America in Ethnographic Perspective',\n",
       " 'Darwinian Dating: The Evolution of Human Attraction',\n",
       " 'Perfect Love?',\n",
       " 'Indian Love Stories',\n",
       " 'Tracking the Digital Self',\n",
       " 'Introduction to Italian Literature: Love, Intrigues and Politics from Dante to Goldoni',\n",
       " 'Darwinian Dating: The Evolution of Human Attraction',\n",
       " 'Darwinian Dating: The Evolution of Human Attraction',\n",
       " 'Love, Sex, and Country: Films from India',\n",
       " 'Love, Sex, and Power in Israeli Culture',\n",
       " 'Russian Soul: Masterworks of Modern Russian Culture',\n",
       " 'The Psychology of Love: Education for Close Relationships',\n",
       " 'Media Stories: Circulating Love, Hate, Revolution',\n",
       " 'Tracking the Digital Self',\n",
       " 'Tracking the Digital Self',\n",
       " 'Sociology of Love',\n",
       " 'Darwinian Dating: The Evolution of Human Attraction',\n",
       " 'Darwinian Dating: The Evolution of Human Attraction',\n",
       " 'Bollywood: Popular Film, Genre, and Society',\n",
       " 'Tracking the Digital Self',\n",
       " 'Tracking the Digital Self',\n",
       " 'Eros and Desire in the English Renaissance']"
      ]
     },
     "execution_count": 87,
     "metadata": {},
     "output_type": "execute_result"
    }
   ],
   "source": [
    "[d['name'] for d in data if 'love' in normalize(d['name']+d['description'])]\n"
   ]
  },
  {
   "cell_type": "code",
   "execution_count": 95,
   "id": "34748301-a5b1-4ffc-a7e2-bfc1c26392a2",
   "metadata": {
    "tags": []
   },
   "outputs": [
    {
     "name": "stdout",
     "output_type": "stream",
     "text": [
      "1065 leahb@brandeis.edu What Would Brandeis Do? Supporting Community Health and Safety Leah Berkenwald Leah Berkenwald leahb@brandeis.edu\n",
      "979 leahb@brandeis.edu What Would Brandeis Do? Supporting Community Health and Safety Leah Berkenwald Leah Berkenwald leahb@brandeis.edu\n",
      "202 jmorris@brandeis.edu Evolution and Biodiversity James Morris James Morris jmorris@brandeis.edu\n",
      "194 murray@brandeis.edu Organic Chemistry I Stephanie Murray Stephanie Murray murray@brandeis.edu\n",
      "180 anneberry@brandeis.edu Introduction to Psychology Anne Berry Anne Berry anneberry@brandeis.edu\n",
      "175 jmorris@brandeis.edu Evolution and Biodiversity James Morris James Morris jmorris@brandeis.edu\n",
      "172 ingoglia@brandeis.edu Organic Chemistry I Bryan Ingoglia Bryan Ingoglia ingoglia@brandeis.edu\n",
      "172 jameshoward@brandeis.edu Introduction to Psychology James Howard James Howard jameshoward@brandeis.edu\n",
      "170 mmiara@brandeis.edu Physiology Maria Miara Maria Miara mmiara@brandeis.edu\n",
      "157 tmitch@brandeis.edu Introduction to Cognitive Neuroscience Teresa Mitchell Teresa Mitchell tmitch@brandeis.edu\n",
      "142 tjhickey@brandeis.edu Fundamentals of Software Engineering Timothy Hickey Timothy Hickey tjhickey@brandeis.edu\n",
      "137 ingoglia@brandeis.edu Organic Chemistry II Bryan Ingoglia Bryan Ingoglia ingoglia@brandeis.edu\n",
      "135 perlman@brandeis.edu Fundamentals of Environmental Challenges Dan Perlman Dan Perlman perlman@brandeis.edu\n",
      "130 lamb@brandeis.edu Introduction to the Comparative Study of Human Societies Sarah Lamb Sarah Lamb lamb@brandeis.edu\n",
      "129 tjhickey@brandeis.edu Discrete Structures Timothy Hickey Timothy Hickey tjhickey@brandeis.edu\n",
      "126 dbreen91@brandeis.edu Introduction to Law Daniel Breen Daniel Breen dbreen91@brandeis.edu\n",
      "125 tjhickey@brandeis.edu Introduction to 3-D Animation Timothy Hickey Timothy Hickey tjhickey@brandeis.edu\n",
      "124 pmistark@brandeis.edu Introduction to Physical Laws and Phenomena II Peter Mistark Peter Mistark pmistark@brandeis.edu\n",
      "124 pmistark@brandeis.edu Introduction to Physical Laws and Phenomena I Peter Mistark Peter Mistark pmistark@brandeis.edu\n",
      "119 jmorris@brandeis.edu Evolution and Biodiversity James Morris James Morris jmorris@brandeis.edu\n",
      "113 slupis@brandeis.edu Adolescence and the Transition to Maturity Sarah Lupis Sarah Lupis slupis@brandeis.edu\n",
      "109 unknown@brandeis.edu Physiology unknown unknown unknown@brandeis.edu\n",
      "108 xinghang@brandeis.edu Introduction to East Asian Civilization Xing Hang Xing Hang xinghang@brandeis.edu\n",
      "106 pmistark@brandeis.edu Introduction to Physical Laws and Phenomena I Peter Mistark Peter Mistark pmistark@brandeis.edu\n",
      "104 geoffclarke@brandeis.edu Introduction to Microeconomics Geoffrey Clarke Geoffrey Clarke geoffclarke@brandeis.edu\n",
      "103 mstrand@brandeis.edu Sociology of Celebrity Michael Strand Michael Strand mstrand@brandeis.edu\n",
      "101 tjhickey@brandeis.edu Mobile Application Development Timothy Hickey Timothy Hickey tjhickey@brandeis.edu\n",
      "100 dilant@brandeis.edu Advanced Programming Techniques in Java Antonella Di Lillo Antonella Di Lillo dilant@brandeis.edu\n",
      "98 guillermina@brandeis.edu Graduate Student Research Seminar Guillermina Ramirez-San Juan Guillermina Ramirez-San Juan guillermina@brandeis.edu\n",
      "98 mayorga@brandeis.edu Order and Change in Society Sarah Mayorga Sarah Mayorga mayorga@brandeis.edu\n"
     ]
    }
   ],
   "source": [
    "xx = sorted(data,key=lambda x: -int(x['enrolled']))\n",
    "for d in xx[:30]:\n",
    "    print(d['enrolled'],d['instructor'].split()[-1],d['name'],d['instructor'])\n",
    "            "
   ]
  },
  {
   "cell_type": "code",
   "execution_count": null,
   "id": "f4d0d88b-3fab-4f8a-acac-70c5e456a52a",
   "metadata": {},
   "outputs": [],
   "source": []
  }
 ],
 "metadata": {
  "kernelspec": {
   "display_name": "Python 3 (ipykernel)",
   "language": "python",
   "name": "python3"
  },
  "language_info": {
   "codemirror_mode": {
    "name": "ipython",
    "version": 3
   },
   "file_extension": ".py",
   "mimetype": "text/x-python",
   "name": "python",
   "nbconvert_exporter": "python",
   "pygments_lexer": "ipython3",
   "version": "3.10.7"
  }
 },
 "nbformat": 4,
 "nbformat_minor": 5
}
