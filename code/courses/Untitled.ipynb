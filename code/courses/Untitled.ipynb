{
 "cells": [
  {
   "cell_type": "code",
   "execution_count": 1,
   "id": "2ba4514f-282f-4acc-b48b-1ed73610acac",
   "metadata": {
    "tags": []
   },
   "outputs": [],
   "source": [
    "import csv\n",
    "from matplotlib import pyplot as plt"
   ]
  },
  {
   "cell_type": "code",
   "execution_count": 2,
   "id": "e658fb31-29c4-4bd1-9a06-92afbf78c34c",
   "metadata": {
    "tags": []
   },
   "outputs": [
    {
     "name": "stdout",
     "output_type": "stream",
     "text": [
      "6850\n"
     ]
    }
   ],
   "source": [
    "with open('courses.csv','r') as infile:\n",
    "    data = list(csv.DictReader(infile))\n",
    "print(len(data))"
   ]
  },
  {
   "cell_type": "code",
   "execution_count": 3,
   "id": "91dc5111-7402-4064-b8d6-1f5b252d2a1a",
   "metadata": {
    "tags": []
   },
   "outputs": [
    {
     "data": {
      "text/plain": [
       "{'limit': 'None',\n",
       " 'enrolled': '1',\n",
       " 'details': '',\n",
       " 'type': 'section',\n",
       " 'status_text': 'Open',\n",
       " 'section': '28',\n",
       " 'waiting': '0',\n",
       " 'instructor': 'Amy Singer Amy Singer amysinger@brandeis.edu',\n",
       " 'coinstructors': '',\n",
       " 'code': \"['HIST', '300E']\",\n",
       " 'subject': 'HIST',\n",
       " 'coursenum': '300E',\n",
       " 'name': 'Directed Research for PhD Students',\n",
       " 'independent_study': 'True',\n",
       " 'term': '1213',\n",
       " 'description': '<p>Students will normally elect one research topic in the fall term and the spring of the first year. Each is designed to provide experience in designing, researching, and writing a substantial essay of a monographic character, based on extensive use of sources. Each is the equivalent of two full courses. Specific research topics are selected by the student in consultation with the adviser. Usually offered every year.<br />Staff</p>'}"
      ]
     },
     "execution_count": 3,
     "metadata": {},
     "output_type": "execute_result"
    }
   ],
   "source": [
    "data[1000]"
   ]
  },
  {
   "cell_type": "code",
   "execution_count": 4,
   "id": "b0674524-2bb3-43c3-b4b0-ef18abdc6bb2",
   "metadata": {
    "tags": []
   },
   "outputs": [
    {
     "data": {
      "text/plain": [
       "[('Fundamentals of Software Engineering', '1221', '142'),\n",
       " ('Discrete Structures', '1213', '129'),\n",
       " ('Mobile Application Development', '1213', '101'),\n",
       " ('Mobile Application Development', '1222', '17'),\n",
       " ('Web Application Development', '1222', '19'),\n",
       " ('Introduction to Problem Solving in Python', '1223', '65'),\n",
       " ('Introduction to 3-D Animation', '1223', '125')]"
      ]
     },
     "execution_count": 4,
     "metadata": {},
     "output_type": "execute_result"
    }
   ],
   "source": [
    "[(d['name'],d['term'],d['enrolled']) for d in data if \"Hickey\" in d['instructor'] and d['independent_study']!= 'True']"
   ]
  },
  {
   "cell_type": "code",
   "execution_count": null,
   "id": "709edeef-f3d7-4f5b-a385-ad8b55d68782",
   "metadata": {
    "tags": []
   },
   "outputs": [],
   "source": [
    "def total_taught(instructor):\n",
    "    return sum([int(d['enrolled']) for d in data if instructor in d['instructor']])\n",
    "total_taught('Hickey')"
   ]
  },
  {
   "cell_type": "code",
   "execution_count": null,
   "id": "e3788a73-0a44-4d1b-b14a-f15cafa4ff6b",
   "metadata": {
    "tags": []
   },
   "outputs": [],
   "source": [
    "teachers = {d['instructor'] for d in data}\n",
    "print(len(teachers))"
   ]
  },
  {
   "cell_type": "code",
   "execution_count": null,
   "id": "f4ce3e18-f125-4908-b36c-2e187525ed73",
   "metadata": {
    "tags": []
   },
   "outputs": [],
   "source": [
    "teaching_load = sorted([(total_taught(instr),instr) for instr in teachers],reverse=True)\n",
    "teaching_load[:50]\n"
   ]
  },
  {
   "cell_type": "code",
   "execution_count": null,
   "id": "66700f41-8598-4757-a032-2bc31b7edaa6",
   "metadata": {
    "tags": []
   },
   "outputs": [],
   "source": [
    "minn = 0\n",
    "maxn = 800\n",
    "loads = [x[0] for x in teaching_load if minn<x[0]<=maxn]\n",
    "plt.hist(loads,bins=min(maxn,100))\n",
    "plt.grid()\n",
    "plt.title(str(len(loads))+\" faculty with teaching loads between \"+str(minn)+\" and \"+str(maxn))"
   ]
  },
  {
   "cell_type": "code",
   "execution_count": null,
   "id": "eec9b2f3-b115-4f80-9208-4a325409b28a",
   "metadata": {
    "tags": []
   },
   "outputs": [],
   "source": [
    "[d['name'] for d in data if 'love' in d['description'].lower().split()]"
   ]
  },
  {
   "cell_type": "code",
   "execution_count": null,
   "id": "cb8c3a28-54a2-4eac-a042-dd47fb15960b",
   "metadata": {
    "tags": []
   },
   "outputs": [],
   "source": [
    "def remove_punctuation(word):\n",
    "    return(\"\".join([w for w in word if w in \"abcdefghijklmnopqrstuvwxyz\"]))\n",
    "remove_punctuation(\"('amazing\\'s!!?)')\")\n",
    "def normalize(words):\n",
    "    return [remove_punctuation(word.lower()) for word in words.split()]\n",
    "            "
   ]
  },
  {
   "cell_type": "code",
   "execution_count": null,
   "id": "a0a5702b-e76d-4e39-ac89-6312bff55b47",
   "metadata": {
    "tags": []
   },
   "outputs": [],
   "source": [
    "[d['name'] for d in data if 'love' in normalize(d['name']+d['description'])]\n"
   ]
  },
  {
   "cell_type": "code",
   "execution_count": null,
   "id": "34748301-a5b1-4ffc-a7e2-bfc1c26392a2",
   "metadata": {
    "tags": []
   },
   "outputs": [],
   "source": [
    "xx = sorted(data,key=lambda x: -int(x['enrolled']))\n",
    "for d in xx[:30]:\n",
    "    print(d['enrolled'],d['instructor'].split()[-1],d['name'],d['instructor'])\n",
    "            "
   ]
  },
  {
   "cell_type": "code",
   "execution_count": null,
   "id": "f4d0d88b-3fab-4f8a-acac-70c5e456a52a",
   "metadata": {},
   "outputs": [],
   "source": []
  }
 ],
 "metadata": {
  "kernelspec": {
   "display_name": "Python 3 (ipykernel)",
   "language": "python",
   "name": "python3"
  },
  "language_info": {
   "codemirror_mode": {
    "name": "ipython",
    "version": 3
   },
   "file_extension": ".py",
   "mimetype": "text/x-python",
   "name": "python",
   "nbconvert_exporter": "python",
   "pygments_lexer": "ipython3",
   "version": "3.10.7"
  }
 },
 "nbformat": 4,
 "nbformat_minor": 5
}
