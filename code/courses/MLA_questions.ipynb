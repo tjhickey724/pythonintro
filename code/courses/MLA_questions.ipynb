{
 "cells": [
  {
   "cell_type": "markdown",
   "id": "f3b58572-daca-471c-93c0-e529526d2e3c",
   "metadata": {},
   "source": [
    "# Mastery Questions\n",
    "from Thu 6/29/2023"
   ]
  },
  {
   "cell_type": "markdown",
   "id": "c78dac2d-7c4e-449d-88de-69aa745fd3e1",
   "metadata": {},
   "source": [
    "# print_dict\n",
    "Write a function, print_dict(d), which will print every element in the dictionary on its own line. For example, \n",
    "if d = {'x':5,'a':3,'zz':44}\n",
    "print_dict(d) would print\n",
    "x is 5\n",
    "a is 3\n",
    "zz is 44\n",
    "\n",
    "HINT:  for key in d:\n",
    "will iterate through they keys in any dictionary d,\n",
    "it is the same \n",
    "for key in ['x', 'a', and 'zz']:   in this case ...\n"
   ]
  },
  {
   "cell_type": "code",
   "execution_count": 1,
   "id": "2a320913-cd6e-465d-91f2-067755248800",
   "metadata": {
    "tags": []
   },
   "outputs": [],
   "source": [
    "\n",
    "def print_dict(d):\n",
    "    for key, value in d.items():\n",
    "        print(key, \"is\", value)\n"
   ]
  },
  {
   "cell_type": "code",
   "execution_count": 2,
   "id": "fe6c0783-573c-4bd0-8a2d-61cced3b538d",
   "metadata": {
    "tags": []
   },
   "outputs": [
    {
     "name": "stdout",
     "output_type": "stream",
     "text": [
      "x is 5\n",
      "a is 3\n",
      "zz is 44\n"
     ]
    }
   ],
   "source": [
    "d = {'x':5,'a':3,'zz':44}\n",
    "print_dict(d)"
   ]
  },
  {
   "cell_type": "code",
   "execution_count": 3,
   "id": "ffb49005-cd42-4e22-b58a-a2c148ef5369",
   "metadata": {
    "tags": []
   },
   "outputs": [
    {
     "name": "stdout",
     "output_type": "stream",
     "text": [
      "x is 5\n",
      "a is 3\n",
      "zz is 44\n"
     ]
    }
   ],
   "source": [
    "def print_dict(d):\n",
    "    for k in d:\n",
    "        print(k,\"is\",d[k])\n",
    "print_dict(d)"
   ]
  },
  {
   "cell_type": "code",
   "execution_count": 5,
   "id": "0b7b2594-2e15-4d4e-b4fe-79a1c11706f8",
   "metadata": {
    "tags": []
   },
   "outputs": [
    {
     "name": "stdout",
     "output_type": "stream",
     "text": [
      "x is 5\n",
      "a is 3\n",
      "zz is 44\n"
     ]
    }
   ],
   "source": [
    "d = {'x':5,'a':3,'zz':44}\n",
    "def print_dict(d):\n",
    "    print('x is',d['x'])\n",
    "    print('a is', d['a'])\n",
    "    print('zz is', d['zz'])\n",
    "print_dict(d)"
   ]
  },
  {
   "cell_type": "markdown",
   "id": "e507b2fe-1f55-48bf-a288-22843652e3b7",
   "metadata": {},
   "source": [
    "# add1\n",
    "\n",
    "Write a function add1 which accepts a dictionary d as its input and and string k. The dictionary d will associate integers to each key. Your program should add one to the value associated to the specified key, and it should return the modified dictionary.\n",
    "\n",
    "For example, if \n",
    "d = {\"Arya\":22, \"Talie\":21} then\n",
    "calling add1(d,\"Arya\")  will change d to be\n",
    "d = {\"Arya\":23, \"Talie\":21}\n",
    " "
   ]
  },
  {
   "cell_type": "code",
   "execution_count": 6,
   "id": "4f4a3dd9-0dbd-481b-a9b8-9fe87372ffac",
   "metadata": {
    "tags": []
   },
   "outputs": [],
   "source": [
    "def add1(dictionary, key):\n",
    "    dictionary[key] += 1\n",
    "    return dictionary"
   ]
  },
  {
   "cell_type": "code",
   "execution_count": 12,
   "id": "a500d443-bac5-47f6-8bfc-98db6ecc0ddb",
   "metadata": {
    "tags": []
   },
   "outputs": [
    {
     "name": "stdout",
     "output_type": "stream",
     "text": [
      "{'Arya': 23, 'Talie': 21}\n"
     ]
    }
   ],
   "source": [
    "d = {\"Arya\":22, \"Talie\":21}\n",
    "add1(d,'Arya')\n",
    "print(d)"
   ]
  },
  {
   "cell_type": "code",
   "execution_count": 11,
   "id": "73092d27-d9fd-44e1-9cb0-50d350ed67a4",
   "metadata": {
    "tags": []
   },
   "outputs": [
    {
     "name": "stdout",
     "output_type": "stream",
     "text": [
      "{'Arya': 22, 'Talie': 21}\n"
     ]
    }
   ],
   "source": [
    "def add1(d, k):\n",
    "    if k in d:\n",
    "        d[k] += 1\n",
    "    return d\n",
    "d = {\"Arya\":22, \"Talie\":21}\n",
    "add1(d,'Tim')\n",
    "print(d)"
   ]
  },
  {
   "cell_type": "markdown",
   "id": "c4e66f04-5702-4945-a713-69afb7392b79",
   "metadata": {},
   "source": [
    "# averageAge\n",
    "write a function averageAge(friends) which accepts a dictionary of friends and their ages and returns the average age of your friends.\n",
    "\n",
    "For example, if\n",
    "friends = {\"Arya\":20, \"Talie\":22, \"Luyi\":24, \"Maria\":22}\n",
    "then\n",
    "averageAge(friends) will return 22\n",
    "\n",
    "HINT: use an accumulation loop over the keys of the dictionary..."
   ]
  },
  {
   "cell_type": "code",
   "execution_count": null,
   "id": "6e6b5b11-36c8-4ad7-b085-17081b03fab9",
   "metadata": {},
   "outputs": [],
   "source": [
    "friends = {\"Arya\":20, \"Talie\":22, \"Luyi\":24, \"Maria\":22}"
   ]
  },
  {
   "cell_type": "code",
   "execution_count": 16,
   "id": "d6406e7b-7ae0-4e73-a829-f27fbb116d29",
   "metadata": {
    "tags": []
   },
   "outputs": [
    {
     "name": "stdout",
     "output_type": "stream",
     "text": [
      "22.0\n"
     ]
    }
   ],
   "source": [
    "def averageAge(friends):\n",
    "    total_age=0\n",
    "    for friend in friends:\n",
    "        total_age+=friends[friend]\n",
    "\n",
    "    if len(friends)>0:\n",
    "        return total_age/len(friends)\n",
    "    else:\n",
    "        return 0\n",
    "\n",
    "friends = {\"Arya\":20, \"Talie\":22, \"Luyi\":24, \"Maria\":22}\n",
    "print(averageAge(friends))"
   ]
  },
  {
   "cell_type": "code",
   "execution_count": 19,
   "id": "ed3d1edc-e14a-4b46-b6c8-aa64b0a07e0a",
   "metadata": {
    "tags": []
   },
   "outputs": [
    {
     "data": {
      "text/plain": [
       "dict_values([20, 22, 24, 22])"
      ]
     },
     "execution_count": 19,
     "metadata": {},
     "output_type": "execute_result"
    }
   ],
   "source": [
    "friends.values()"
   ]
  },
  {
   "cell_type": "code",
   "execution_count": 20,
   "id": "88025c4d-5d4a-4d40-bef1-25366e3c690a",
   "metadata": {
    "tags": []
   },
   "outputs": [
    {
     "data": {
      "text/plain": [
       "dict_keys(['Arya', 'Talie', 'Luyi', 'Maria'])"
      ]
     },
     "execution_count": 20,
     "metadata": {},
     "output_type": "execute_result"
    }
   ],
   "source": [
    "friends.keys()"
   ]
  },
  {
   "cell_type": "code",
   "execution_count": 21,
   "id": "5842a565-07e6-433c-9951-3e06d65a8cd1",
   "metadata": {
    "tags": []
   },
   "outputs": [
    {
     "data": {
      "text/plain": [
       "22.0"
      ]
     },
     "execution_count": 21,
     "metadata": {},
     "output_type": "execute_result"
    }
   ],
   "source": [
    "def averageAge(friends):\n",
    "    average = sum(friends.values()) / len(friends)\n",
    "    return average\n",
    "averageAge(friends)"
   ]
  },
  {
   "cell_type": "code",
   "execution_count": 22,
   "id": "ef88d2dc-649a-44cb-a429-bc88e66e9456",
   "metadata": {
    "tags": []
   },
   "outputs": [
    {
     "data": {
      "text/plain": [
       "22.0"
      ]
     },
     "execution_count": 22,
     "metadata": {},
     "output_type": "execute_result"
    }
   ],
   "source": [
    "def averageAge(friends):\n",
    "    sum = 0\n",
    "    for key,value in friends.items():\n",
    "        sum += value\n",
    "    return sum/len(friends)\n",
    "averageAge(friends)"
   ]
  },
  {
   "cell_type": "code",
   "execution_count": 23,
   "id": "ee45747b-f7cb-4078-97a6-2888efa6b22f",
   "metadata": {
    "tags": []
   },
   "outputs": [
    {
     "data": {
      "text/plain": [
       "22.0"
      ]
     },
     "execution_count": 23,
     "metadata": {},
     "output_type": "execute_result"
    }
   ],
   "source": [
    "def averageAge(friends):\n",
    "    total_age = sum(friends.values())\n",
    "    num_friends = len(friends)\n",
    "    avg_age = total_age / num_friends\n",
    "    return avg_age\n",
    "averageAge(friends)"
   ]
  },
  {
   "cell_type": "code",
   "execution_count": 29,
   "id": "3e5806e2-c222-44e6-abec-aa5df4dd13fa",
   "metadata": {
    "tags": []
   },
   "outputs": [
    {
     "data": {
      "text/plain": [
       "([20, 22, 24, 22], 22.0)"
      ]
     },
     "execution_count": 29,
     "metadata": {},
     "output_type": "execute_result"
    }
   ],
   "source": [
    "def averageAge(friends):\n",
    "    ages=[]\n",
    "    for person in friends:\n",
    "        ages += [friends[person]]\n",
    "    average_age=sum(ages)/len(friends)\n",
    "    return (ages,average_age)\n",
    "averageAge(friends)"
   ]
  },
  {
   "cell_type": "code",
   "execution_count": null,
   "id": "3ce48c8b-137e-46e4-8082-33d1c7bd8e33",
   "metadata": {},
   "outputs": [],
   "source": []
  }
 ],
 "metadata": {
  "kernelspec": {
   "display_name": "Python 3 (ipykernel)",
   "language": "python",
   "name": "python3"
  },
  "language_info": {
   "codemirror_mode": {
    "name": "ipython",
    "version": 3
   },
   "file_extension": ".py",
   "mimetype": "text/x-python",
   "name": "python",
   "nbconvert_exporter": "python",
   "pygments_lexer": "ipython3",
   "version": "3.10.7"
  }
 },
 "nbformat": 4,
 "nbformat_minor": 5
}
